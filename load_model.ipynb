{
 "cells": [
  {
   "cell_type": "code",
   "execution_count": 1,
   "id": "61203470",
   "metadata": {},
   "outputs": [],
   "source": [
    "import torch\n",
    "from networks.voxnet import VoxNet\n",
    "from networks.lightnet import light\n",
    "from networks.dgcnn import DGCNN\n",
    "from networks.pct import PointTransformerCls"
   ]
  },
  {
   "cell_type": "code",
   "execution_count": 2,
   "id": "d2639c07",
   "metadata": {},
   "outputs": [],
   "source": [
    "class opt:\n",
    "    def __init__(self, dropout=0.5, emb_dims = 1024, k = 20):\n",
    "        self.dropout = dropout\n",
    "        self.emb_dims = emb_dims\n",
    "        self.k = k\n",
    "\n",
    "dgcnn_parameters = opt()"
   ]
  },
  {
   "cell_type": "code",
   "execution_count": 3,
   "id": "f20d9994",
   "metadata": {},
   "outputs": [
    {
     "data": {
      "text/plain": [
       "<All keys matched successfully>"
      ]
     },
     "execution_count": 3,
     "metadata": {},
     "output_type": "execute_result"
    }
   ],
   "source": [
    "voxnet = VoxNet(19)\n",
    "voxnet.load_state_dict(torch.load('pretrain/voxnet.pth'))\n",
    "\n",
    "lightnet = light(19)\n",
    "lightnet.load_state_dict(torch.load('pretrain/light.pth'))\n",
    "\n",
    "dgcnn = DGCNN(dgcnn_parameters,output_channels=19)\n",
    "dgcnn.load_state_dict(torch.load('pretrain/dgcnn.pth'))\n",
    "\n",
    "pct = PointTransformerCls(opt(),output_channels=19)\n",
    "pct.load_state_dict(torch.load('pretrain/pct.pth'))"
   ]
  },
  {
   "cell_type": "code",
   "execution_count": 4,
   "id": "abe11360",
   "metadata": {},
   "outputs": [
    {
     "data": {
      "text/plain": [
       "'\\n#feature encoder (until penultimate layer)\\nmodel.features()\\n#entire classifier\\nmodel.predict()\\n'"
      ]
     },
     "execution_count": 4,
     "metadata": {},
     "output_type": "execute_result"
    }
   ],
   "source": [
    "'''\n",
    "# Pretrained feature encoder, until penultimate layer. I think that is what you need.\n",
    "model.features()\n",
    "\n",
    "#entire classifier\n",
    "model.predict()\n",
    "'''"
   ]
  },
  {
   "cell_type": "code",
   "execution_count": null,
   "id": "c5aeb777",
   "metadata": {},
   "outputs": [],
   "source": []
  }
 ],
 "metadata": {
  "kernelspec": {
   "display_name": "Python 3 (ipykernel)",
   "language": "python",
   "name": "python3"
  },
  "language_info": {
   "codemirror_mode": {
    "name": "ipython",
    "version": 3
   },
   "file_extension": ".py",
   "mimetype": "text/x-python",
   "name": "python",
   "nbconvert_exporter": "python",
   "pygments_lexer": "ipython3",
   "version": "3.9.12"
  }
 },
 "nbformat": 4,
 "nbformat_minor": 5
}
